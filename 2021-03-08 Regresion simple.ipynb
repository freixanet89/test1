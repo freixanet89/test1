{
 "cells": [
  {
   "cell_type": "code",
   "execution_count": 1,
   "id": "communist-mapping",
   "metadata": {},
   "outputs": [],
   "source": [
    "#importar librerias\n",
    "import numpy as np\n",
    "import tensorflow as tf\n",
    "import matplotlib.pyplot as plt"
   ]
  },
  {
   "cell_type": "code",
   "execution_count": 2,
   "id": "thousand-chorus",
   "metadata": {},
   "outputs": [],
   "source": [
    "#1) LEER Y PARTIR LOS DARTOS\n",
    "#importar los datos\n",
    "datos = np.loadtxt(\"datos.txt\")\n",
    "#como renglones para modificarlos mas facil\n",
    "datos = np.transpose(datos)\n",
    "x = datos[0]\n",
    "y = datos[1]\n",
    "m = len(y)\n",
    "limite = int(0.8 * m)\n",
    "x_train, x_test = x[:limite], x[limite:]\n",
    "y_train, y_test = y[:limite], y[limite:]\n",
    "#print(y_train.shape,y_test.shape)"
   ]
  },
  {
   "cell_type": "code",
   "execution_count": 3,
   "id": "willing-threshold",
   "metadata": {},
   "outputs": [],
   "source": [
    "#2) DEFINIR HIPERPARAMETROS\n",
    "learning_rate = 0.2\n",
    "#Tiempo en que se modifican los parametros (batch)\n",
    "epocas = 20"
   ]
  },
  {
   "cell_type": "code",
   "execution_count": 4,
   "id": "cubic-recycling",
   "metadata": {},
   "outputs": [],
   "source": [
    "#3) Definir los tensores\n",
    "#se define el tipo para que no vaya a agarrar 64\n",
    "X = tf.constant(x_train, dtype = tf.float32)\n",
    "Y = tf.constant(y_train, dtype = tf.float32)\n",
    "T0 = tf.Variable(0.0, dtype = tf.float32)\n",
    "T1 = tf.Variable(0.0, dtype = tf.float32)"
   ]
  },
  {
   "cell_type": "code",
   "execution_count": 5,
   "id": "crucial-least",
   "metadata": {},
   "outputs": [],
   "source": [
    "#4) Definir el modelo y costo\n",
    "def modelo(T0, T1, X): #la Y se usa hasta el costo\n",
    "    return T0 + T1 * X\n",
    "\n",
    "def costo(T0, T1, X, Y):\n",
    "    return tf.reduce_sum(tf.square(modelo(T0, T1, X) - Y)) \n",
    "#Reduce_sum sustituye al for que tendríams que usar para la sumatoria\n",
    "\n",
    "#Necesitamos uno que no tenga parámetros.\n",
    "def costo_minimizar():\n",
    "    return tf.reduce_mean(tf.square(modelo(T0, T1, X) - Y)) #Aqui con MEAN saca el error promedio para que saque el promedio y no el total\n",
    "\n",
    "# Algoritmo para encontrar los valores, gradiente descendiente. Este es el que no acepta con parametros, el algoritmo de gradiente descendiente\n",
    "train_op = tf.keras.optimizers.SGD(learning_rate)"
   ]
  },
  {
   "cell_type": "code",
   "execution_count": 6,
   "id": "indian-ukraine",
   "metadata": {},
   "outputs": [
    {
     "name": "stdout",
     "output_type": "stream",
     "text": [
      "epoca  0 :  128.97827\n",
      "epoca  1 :  97.11648\n",
      "epoca  2 :  73.727875\n",
      "epoca  3 :  56.54454\n",
      "epoca  4 :  43.9149\n",
      "epoca  5 :  34.630295\n",
      "epoca  6 :  27.804077\n",
      "epoca  7 :  22.785076\n",
      "epoca  8 :  19.09475\n",
      "epoca  9 :  16.381325\n",
      "epoca  10 :  14.3861885\n",
      "epoca  11 :  12.919188\n",
      "epoca  12 :  11.840521\n",
      "epoca  13 :  11.047392\n",
      "epoca  14 :  10.464212\n",
      "epoca  15 :  10.035409\n",
      "epoca  16 :  9.720114\n",
      "epoca  17 :  9.488279\n",
      "epoca  18 :  9.317816\n",
      "epoca  19 :  9.192476\n",
      "to:  -0.035843607  t1:  1.9570575\n"
     ]
    }
   ],
   "source": [
    "# 5) Correr el modelo\n",
    "#Esta lista va a guardar los errores de las epocas para poder graficarlo y ver que disminuye el error\n",
    "lista_error = []\n",
    "for epoca in range(epocas):\n",
    "    error = costo(T0,T1,X,Y).numpy() #numpy obtiene el valor del tensor\n",
    "    print(\"epoca \", epoca, \": \", error)\n",
    "    lista_error.append(error) #esto guarda el error a la lista\n",
    "    train_op.minimize(costo_minimizar, var_list = [T0,T1]) #var_list son los que puede ir cambiando\n",
    "t0 = T0.numpy()\n",
    "t1 = T1.numpy()\n",
    "print(\"to: \", t0, \" t1: \",t1)"
   ]
  },
  {
   "cell_type": "code",
   "execution_count": 7,
   "id": "rolled-eugene",
   "metadata": {},
   "outputs": [
    {
     "data": {
      "image/png": "[encoded data removed]",
      "text/plain": [
       "<Figure size 432x288 with 1 Axes>"
      ]
     },
     "metadata": {
      "needs_background": "light"
     },
     "output_type": "display_data"
    }
   ],
   "source": [
    "# graficar el error obtenido en cada epoca\n",
    "plt.plot(lista_error)\n",
    "plt.show()"
   ]
  },
  {
   "cell_type": "code",
   "execution_count": 8,
   "id": "sophisticated-merchandise",
   "metadata": {},
   "outputs": [
    {
     "name": "stdout",
     "output_type": "stream",
     "text": [
      "Error en test:  3.3618875\n"
     ]
    }
   ],
   "source": [
    "#probar con el test, calcular el error que provoca el test (error cuadratico)\n",
    "print(\"Error en test: \", costo(T0,T1,x_test, y_test).numpy())\n"
   ]
  },
  {
   "cell_type": "code",
   "execution_count": 9,
   "id": "downtown-amsterdam",
   "metadata": {},
   "outputs": [],
   "source": [
    "#Lo que se le vende es su modelo en produccion\n",
    "#pronostico\n",
    "def pronostico(X):\n",
    "    return t0 + t1 * np.array(X)"
   ]
  },
  {
   "cell_type": "code",
   "execution_count": 10,
   "id": "sitting-lawsuit",
   "metadata": {},
   "outputs": [
    {
     "data": {
      "text/plain": [
       "array([-1.69347129,  0.04654851,  1.12332154,  5.91361112])"
      ]
     },
     "execution_count": 10,
     "metadata": {},
     "output_type": "execute_result"
    }
   ],
   "source": [
    "x_pronostico = [-0.847, 0.0421, 0.5923, 3.04]\n",
    "y_pronostico = pronostico(x_pronostico)\n",
    "y_pronostico"
   ]
  },
  {
   "cell_type": "code",
   "execution_count": null,
   "id": "reverse-negative",
   "metadata": {},
   "outputs": [],
   "source": []
  }
 ],
 "metadata": {
  "kernelspec": {
   "display_name": "Python 3",
   "language": "python",
   "name": "python3"
  },
  "language_info": {
   "codemirror_mode": {
    "name": "ipython",
    "version": 3
   },
   "file_extension": ".py",
   "mimetype": "text/x-python",
   "name": "python",
   "nbconvert_exporter": "python",
   "pygments_lexer": "ipython3",
   "version": "3.7.10"
  }
 },
 "nbformat": 4,
 "nbformat_minor": 5
}
